{
 "cells": [
  {
   "cell_type": "code",
   "id": "initial_id",
   "metadata": {
    "collapsed": true,
    "ExecuteTime": {
     "end_time": "2024-05-31T16:48:21.976729Z",
     "start_time": "2024-05-31T16:48:21.971210Z"
    }
   },
   "source": [
    "import random\n",
    "import os\n",
    "import subprocess"
   ],
   "outputs": [],
   "execution_count": 33
  },
  {
   "metadata": {
    "ExecuteTime": {
     "end_time": "2024-05-31T16:48:28.477193Z",
     "start_time": "2024-05-31T16:48:28.334349Z"
    }
   },
   "cell_type": "code",
   "source": [
    "!mkdir sim_genome\n",
    "\n",
    "#This will create a number of simulated genomes and a single reads file\n",
    "\n",
    "ncs = ['A', 'C', 'G', 'T']\n",
    "\n",
    "for i in range(40):\n",
    "    genome = open(f'sim_genome/genome{i}.fa', 'w')\n",
    "    genome.write(f\">seq{i}\\n\")\n",
    "    db = ''\n",
    "    for nc in range(i * 5000):\n",
    "        db += random.choice(ncs)\n",
    "    genome.write(db)\n",
    "    genome.close()\n",
    "\n",
    "genome = open(f'sim_genome/genome1.fa', 'r')\n",
    "db = ''.join(line.strip() for line in genome if not line.startswith('>'))\n",
    "\n",
    "reads = []\n",
    "for i in range(50):\n",
    "    index = random.randint(0, len(db) - 100 + 1)\n",
    "    read = db[index:index + 100]\n",
    "    reads.append(read)\n",
    "\n",
    "error_reads = []    \n",
    "for read in reads:\n",
    "    new_read = ''\n",
    "    for nc in read:\n",
    "        chance = random.randint(0, 100)\n",
    "        if chance > 99:\n",
    "            new_read += ncs[random.randint(0, 3)]\n",
    "        else:\n",
    "            new_read += nc\n",
    "    error_reads.append(new_read)\n",
    "    \n",
    "reads = open(f\"sim_genome/reads1.fa\", \"w\")\n",
    "for read in error_reads:\n",
    "    reads.write(f\">read\\n\")\n",
    "    reads.write(read + '\\n')\n",
    "reads.close()"
   ],
   "id": "bac3f0f5f2dde59d",
   "outputs": [],
   "execution_count": 34
  },
  {
   "metadata": {
    "ExecuteTime": {
     "end_time": "2024-05-31T17:28:51.701693Z",
     "start_time": "2024-05-31T17:28:51.435539Z"
    }
   },
   "cell_type": "code",
   "source": [
    "! mkdir sim_reads\n",
    "\n",
    "# This creates of genomes and a number of simulation reads\n",
    "\n",
    "db =''\n",
    "for i in range(20000):\n",
    "    db += random.choice(ncs)\n",
    "genome = open(f'sim_reads/genome1.fa', 'w')\n",
    "genome.write(f\">seq1\\n\")\n",
    "genome.write(db)\n",
    "genome.close()\n",
    "\n",
    "for i in range(40):\n",
    "    reads = []\n",
    "    for j in range(i * 50):\n",
    "        index = random.randint(0, len(db) - 30 + 1)\n",
    "        read = db[index:index + 30]\n",
    "        reads.append(read)\n",
    "    \n",
    "    error_reads = []    \n",
    "    for read in reads:\n",
    "        new_read = ''\n",
    "        for nc in read:\n",
    "            chance = random.randint(0, 100)\n",
    "            if chance > 99:\n",
    "                new_read += ncs[random.randint(0, 3)]\n",
    "            else:\n",
    "                new_read += nc\n",
    "        error_reads.append(new_read)\n",
    "        \n",
    "        reads = open(f\"sim_reads/reads{i}.fa\", \"w\")\n",
    "        for read in error_reads:\n",
    "            reads.write(f\">read{i}\\n\")\n",
    "            reads.write(read + '\\n')\n",
    "        reads.close()\n",
    "        "
   ],
   "id": "27e5d6616d1e1e63",
   "outputs": [
    {
     "name": "stdout",
     "output_type": "stream",
     "text": [
      "rm: sim_reads: is a directory\r\n",
      "mkdir: sim_reads: File exists\r\n"
     ]
    }
   ],
   "execution_count": 37
  },
  {
   "metadata": {
    "ExecuteTime": {
     "end_time": "2024-05-31T18:10:25.694708Z",
     "start_time": "2024-05-31T18:10:25.540428Z"
    }
   },
   "cell_type": "code",
   "source": [
    "! mkdir sim_error\n",
    "\n",
    "# This will create the reads with different levels of error\n",
    "\n",
    "db =''\n",
    "for i in range(20000):\n",
    "    db += random.choice(ncs)\n",
    "genome = open(f'sim_error/genome1.fa', 'w')\n",
    "genome.write(f\">seq1\\n\")\n",
    "genome.write(db)\n",
    "genome.close()\n",
    "\n",
    "for i in range(21):\n",
    "    reads = []\n",
    "    for j in range(50):\n",
    "        index = random.randint(0, len(db) - 30 + 1)\n",
    "        read = db[index:index + 30]\n",
    "        reads.append(read)\n",
    "\n",
    "    error_reads = []    \n",
    "    for read in reads:\n",
    "        new_read = ''\n",
    "        for nc in read:\n",
    "            chance = random.randint(0, 100)\n",
    "            if chance > 100 - i:\n",
    "                new_read += ncs[random.randint(0, 3)]\n",
    "            else:\n",
    "                new_read += nc\n",
    "        error_reads.append(new_read)\n",
    "            \n",
    "        reads = open(f\"sim_error/reads{i}.fa\", \"w\")\n",
    "        for read in error_reads:\n",
    "            reads.write(f\">read{i}\\n\")\n",
    "            reads.write(read + '\\n')\n",
    "        reads.close()"
   ],
   "id": "198d1619ffcb7973",
   "outputs": [],
   "execution_count": 41
  }
 ],
 "metadata": {
  "kernelspec": {
   "display_name": "Python 3",
   "language": "python",
   "name": "python3"
  },
  "language_info": {
   "codemirror_mode": {
    "name": "ipython",
    "version": 2
   },
   "file_extension": ".py",
   "mimetype": "text/x-python",
   "name": "python",
   "nbconvert_exporter": "python",
   "pygments_lexer": "ipython2",
   "version": "2.7.6"
  }
 },
 "nbformat": 4,
 "nbformat_minor": 5
}
